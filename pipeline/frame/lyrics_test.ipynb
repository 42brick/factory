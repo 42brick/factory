{
 "cells": [
  {
   "cell_type": "code",
   "execution_count": 1,
   "metadata": {},
   "outputs": [],
   "source": [
    "import numpy as np\n",
    "import pandas as pd\n",
    "import json\n",
    "import os"
   ]
  },
  {
   "cell_type": "code",
   "execution_count": 2,
   "metadata": {},
   "outputs": [],
   "source": [
    "from pyspark.sql import SparkSession\n",
    "from pyspark.sql.types import StructType, StructField, StringType, IntegerType, BooleanType"
   ]
  },
  {
   "cell_type": "code",
   "execution_count": 3,
   "metadata": {},
   "outputs": [],
   "source": [
    "spark = SparkSession.builder.getOrCreate()"
   ]
  },
  {
   "cell_type": "code",
   "execution_count": 3,
   "metadata": {},
   "outputs": [],
   "source": [
    "root_dir = 'C:/SGM_AI/42Brick/dataset/pop_song'\n",
    "\n",
    "data = []\n",
    "\n",
    "for (root, dirs, files) in os.walk(root_dir):\n",
    "    if len(files) > 0: \n",
    "        for file_name in files:\n",
    "            if os.path.splitext(file_name)[1] == '.json':\n",
    "                with open(root.replace('\\\\', '/') + '/' + file_name) as f:\n",
    "                    data.append(json.load(f))"
   ]
  },
  {
   "cell_type": "code",
   "execution_count": 7,
   "metadata": {},
   "outputs": [],
   "source": [
    "with open(\"C:/SGM_AI/42Brick/dataset/pop_song.json\", \"w\") as new_file:\n",
    "\tjson.dump(data, new_file)"
   ]
  },
  {
   "cell_type": "code",
   "execution_count": 5,
   "metadata": {},
   "outputs": [
    {
     "name": "stdout",
     "output_type": "stream",
     "text": [
      "+--------------------+---------------+---------------------+--------------------+----------------------+----------------+---------------+--------------------+------+--------------------+------------------+------+----------------+-----------+----------------+--------------------+------------------+--------------+--------------------+--------------------+\n",
      "|     alternate_names|       api_path|current_user_metadata|         description|description_annotation|   facebook_name|followers_count|    header_image_url|    id|           image_url|    instagram_name|    iq|is_meme_verified|is_verified|            name|               songs|translation_artist|  twitter_name|                 url|                user|\n",
      "+--------------------+---------------+---------------------+--------------------+----------------------+----------------+---------------+--------------------+------+--------------------+------------------+------+----------------+-----------+----------------+--------------------+------------------+--------------+--------------------+--------------------+\n",
      "|[Ariana Grande-Bu...| /artists/26507| {[edit, edit_imag...|{Ariana Grande (b...|  {referent, {/arti...|    ArianaGrande|           5654|https://images.ge...| 26507|https://images.ge...|      ArianaGrande|  2338|           false|       true|   Ariana Grande|[{{/albums/467250...|             false|  ArianaGrande|https://genius.co...|{/users/2528152, ...|\n",
      "|[Beyoncé Knowles,...|   /artists/498| {[edit, edit_imag...|{In the twenty-fi...|  {referent, {/arti...|         beyonce|           3483|https://images.ge...|   498|https://images.ge...|           beyonce|  null|           false|      false|         Beyoncé|[{{/albums/65407,...|             false|       Beyonce|https://genius.co...|                null|\n",
      "|[Billie Eilish O'...|/artists/615550| {[edit, edit_imag...|{Billie Eilish Pi...|  {referent, {/arti...|    billieeilish|           6285|https://images.ge...|615550|https://images.ge...|      billieeilish|  7016|           false|       true|   Billie Eilish|[{{/albums/516773...|             false|  billieeilish|https://genius.co...|{/users/4340105, ...|\n",
      "|[Bangtan Sonyeond...| /artists/70113| {[edit, edit_imag...|{BTS is a South K...|  {referent, {/arti...|bangtan.official|           5188|https://images.ge...| 70113|https://images.ge...|bts.bighitofficial|  null|           false|      false|BTS (방탄소년단)|[{{/albums/693732...|             false|       BTS_twt|https://genius.co...|                null|\n",
      "|[Belcalis Almanza...|/artists/621678| {[edit, edit_imag...|{Born on October ...|  {referent, {/arti...|       IamCardiB|           2032|https://images.ge...|621678|https://images.ge...|         iamcardib|  1144|            true|       true|         Cardi B|[{{/albums/469409...|             false|     iamcardib|https://genius.co...|{/users/4283532, ...|\n",
      "|[Charlie Otto Put...|/artists/250301| {[edit, edit_imag...|{Charlie Puth is ...|  {referent, {/arti...|     charlieputh|           1305|https://images.ge...|250301|https://images.ge...|       charlieputh| 10469|           false|       true|    Charlie Puth|[{{/albums/367901...|             false|   charlieputh|https://genius.co...|{/users/2264765, ...|\n",
      "|                  []|  /artists/8351| {[edit, edit_imag...|{Coldplay is a Br...|  {referent, {/arti...|        coldplay|           1547|https://images.ge...|  8351|https://images.ge...|          coldplay|  null|           false|      false|        Coldplay|[{{/albums/17979,...|             false|      coldplay|https://genius.co...|                null|\n",
      "|[Aubrey Drake Gra...|   /artists/130| {[edit, edit_imag...|{Aubrey Drake Gra...|  {referent, {/arti...|           drake|          14753|https://images.ge...|   130|https://images.ge...|     champagnepapi|  null|           false|      false|           Drake|[{{/albums/420582...|             false|         drake|https://genius.co...|                null|\n",
      "|                  []|/artists/555561| {[edit, edit_imag...|{Dua Lipa is a Br...|  {referent, {/arti...| dualipaofficial|           1300|https://images.ge...|555561|https://images.ge...|           dualipa|  2108|           false|       true|        Dua Lipa|[{{/albums/159485...|             false|       dualipa|https://genius.co...|{/users/3221113, ...|\n",
      "|[Edward C. Sheera...| /artists/12418| {[edit, edit_imag...|{Ed Sheeran is a ...|  {referent, {/arti...|  EdSheeranMusic|           3973|https://images.ge...| 12418|https://images.ge...|      teddysphotos|  1300|            true|       true|      Ed Sheeran|[{{/albums/324072...|             false|     edsheeran|https://genius.co...|{/users/4143416, ...|\n",
      "|[Marshall Bruce M...|    /artists/45| {[edit, edit_imag...|{A legendary hip-...|  {referent, {/arti...|          Eminem|          24806|https://images.ge...|    45|https://images.ge...|            eminem|222053|            true|       true|          Eminem|[{{/albums/672689...|             false|        Eminem|https://genius.co...|{/users/1628085, ...|\n",
      "|[Justin Drew Bieber]|   /artists/357| {[edit, edit_imag...|{Justin Bieber (b...|  {referent, {/arti...|    JustinBieber|           3382|https://images.ge...|   357|https://images.ge...|      justinbieber|  1525|            true|       true|   Justin Bieber|[{{/albums/689706...|             false|  justinbieber|https://genius.co...|{/users/2385375, ...|\n",
      "|[Katheryn E. Huds...|  /artists/1195| {[edit, edit_imag...|{Katheryn Elizabe...|  {referent, {/arti...|       katyperry|           1587|https://images.ge...|  1195|https://images.ge...|         katyperry|   149|           false|       true|      Katy Perry|[{{/albums/154346...|             false|     katyperry|https://genius.co...|{/users/4267547, ...|\n",
      "|[Khalid D. Robins...|  /artists/9932| {[edit, edit_imag...|{Born on February...|  {referent, {/arti...|  thegreatkhalid|           1632|https://images.ge...|  9932|https://images.ge...|      thegr8khalid| 12661|           false|       true|          Khalid|[{{/albums/328417...|             false|thegreatkhalid|https://genius.co...|{/users/4240401, ...|\n",
      "|[Stefani Germanot...|   /artists/447| {[edit, edit_imag...|{Stefani Joanne A...|  {referent, {/arti...|        ladygaga|           2314|https://images.ge...|   447|https://images.ge...|          ladygaga|  2581|            true|       true|       Lady Gaga|[{{/albums/41618,...|             false|      ladygaga|https://genius.co...|{/users/3699568, ...|\n",
      "|                  []| /artists/13539| {[edit, edit_imag...|{Maroon 5 is an A...|  {referent, {/arti...|        maroon5‎|            654|https://images.ge...| 13539|https://images.ge...|           maroon5|  null|           false|      false|        Maroon 5|[{{/albums/372355...|             false|       maroon5|https://genius.co...|                null|\n",
      "|[Onika Tanya Mara...|    /artists/92| {[edit, edit_imag...|{Born December 8,...|  {referent, {/arti...|      nickiminaj|           5114|https://images.ge...|    92|https://images.ge...|        nickiminaj|  3323|            true|       true|     Nicki Minaj|[{{/albums/97218,...|             false|    nickiminaj|https://genius.co...|{/users/1356563, ...|\n",
      "|[Austin Richard P...|/artists/326362| {[edit, edit_imag...|{Austin Richard P...|  {referent, {/arti...|      postmalone|           4443|https://images.ge...|326362|https://images.ge...|        postmalone| 14075|            true|       true|     Post Malone|[{{/albums/326339...|             false|    PostMalone|https://genius.co...|{/users/1507637, ...|\n",
      "|[Robyn Fenty, Rob...|    /artists/89| {[edit, edit_imag...|{A true pop icon,...|  {referent, {/arti...|         rihanna|           5013|https://images.ge...|    89|https://images.ge...|        badgalriri|  2113|            true|       true|         Rihanna|[{{/albums/132689...|             false|       rihanna|https://genius.co...|{/users/2784771, ...|\n",
      "|[Selena Marie Gomez]| /artists/45372| {[edit, edit_imag...|{Selena Gomez is ...|  {referent, {/arti...|          Selena|           2503|https://images.ge...| 45372|https://images.ge...|       selenagomez| 11221|            true|       true|    Selena Gomez|[{{/albums/586029...|             false|   selenagomez|https://genius.co...|{/users/2324728, ...|\n",
      "+--------------------+---------------+---------------------+--------------------+----------------------+----------------+---------------+--------------------+------+--------------------+------------------+------+----------------+-----------+----------------+--------------------+------------------+--------------+--------------------+--------------------+\n",
      "only showing top 20 rows\n",
      "\n"
     ]
    }
   ],
   "source": [
    "from email import header\n",
    "\n",
    "\n",
    "path = \"C:/SGM_AI/42Brick/dataset/pop_song.json\"\n",
    "\n",
    "spark_df = spark.read.json(path)"
   ]
  },
  {
   "cell_type": "code",
   "execution_count": null,
   "metadata": {},
   "outputs": [],
   "source": [
    "spark_df.printSchema()"
   ]
  },
  {
   "cell_type": "code",
   "execution_count": null,
   "metadata": {},
   "outputs": [],
   "source": [
    "# spark_df.show()"
   ]
  }
 ],
 "metadata": {
  "kernelspec": {
   "display_name": "Python 3.9.12 ('base')",
   "language": "python",
   "name": "python3"
  },
  "language_info": {
   "codemirror_mode": {
    "name": "ipython",
    "version": 3
   },
   "file_extension": ".py",
   "mimetype": "text/x-python",
   "name": "python",
   "nbconvert_exporter": "python",
   "pygments_lexer": "ipython3",
   "version": "3.9.12"
  },
  "orig_nbformat": 4,
  "vscode": {
   "interpreter": {
    "hash": "a077222d77dfe082b8f1dd562ad70e458ac2ab76993a0b248ab0476e32e9e8dd"
   }
  }
 },
 "nbformat": 4,
 "nbformat_minor": 2
}
